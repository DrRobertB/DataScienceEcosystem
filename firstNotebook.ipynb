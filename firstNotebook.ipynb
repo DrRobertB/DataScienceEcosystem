{
 "cells": [
  {
   "cell_type": "markdown",
   "id": "3898f0fc-c91a-43db-a858-6ae89ef5eb58",
   "metadata": {},
   "source": [
    "# helllowwww"
   ]
  },
  {
   "cell_type": "code",
   "execution_count": null,
   "id": "c514d155-0620-491a-a9dc-0d9425ab2abc",
   "metadata": {},
   "outputs": [],
   "source": []
  }
 ],
 "metadata": {
  "kernelspec": {
   "display_name": "Python 3 (ipykernel)",
   "language": "python",
   "name": "python3"
  },
  "language_info": {
   "codemirror_mode": {
    "name": "ipython",
    "version": 3
   },
   "file_extension": ".py",
   "mimetype": "text/x-python",
   "name": "python",
   "nbconvert_exporter": "python",
   "pygments_lexer": "ipython3",
   "version": "3.11.3"
  }
 },
 "nbformat": 4,
 "nbformat_minor": 5
}
